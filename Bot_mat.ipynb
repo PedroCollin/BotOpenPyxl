{
 "cells": [
  {
   "cell_type": "code",
   "execution_count": 1,
   "metadata": {},
   "outputs": [
    {
     "ename": "IndexError",
     "evalue": "tuple index out of range",
     "output_type": "error",
     "traceback": [
      "\u001b[1;31m---------------------------------------------------------------------------\u001b[0m",
      "\u001b[1;31mIndexError\u001b[0m                                Traceback (most recent call last)",
      "Input \u001b[1;32mIn [1]\u001b[0m, in \u001b[0;36m<module>\u001b[1;34m\u001b[0m\n\u001b[0;32m     50\u001b[0m             sheet\u001b[38;5;241m.\u001b[39mcell(last_row\u001b[38;5;241m+\u001b[39mcont, col)\u001b[38;5;241m.\u001b[39mvalue \u001b[38;5;241m=\u001b[39m sheet\u001b[38;5;241m.\u001b[39mcell(row, col)\u001b[38;5;241m.\u001b[39mvalue\n\u001b[0;32m     53\u001b[0m wb \u001b[38;5;241m=\u001b[39m op\u001b[38;5;241m.\u001b[39mload_workbook(\u001b[38;5;124m'\u001b[39m\u001b[38;5;124mapcmat.xlsx\u001b[39m\u001b[38;5;124m'\u001b[39m)\n\u001b[1;32m---> 54\u001b[0m \u001b[43mcopypaste\u001b[49m\u001b[43m(\u001b[49m\u001b[43mwb\u001b[49m\u001b[43m[\u001b[49m\u001b[38;5;124;43m'\u001b[39;49m\u001b[38;5;124;43mAPC MAT\u001b[39;49m\u001b[38;5;124;43m'\u001b[39;49m\u001b[43m]\u001b[49m\u001b[43m)\u001b[49m\n\u001b[0;32m     55\u001b[0m wb\u001b[38;5;241m.\u001b[39msave(\u001b[38;5;124m'\u001b[39m\u001b[38;5;124mtestemat.xlsx\u001b[39m\u001b[38;5;124m'\u001b[39m)\n",
      "Input \u001b[1;32mIn [1]\u001b[0m, in \u001b[0;36mcopypaste\u001b[1;34m(sheet)\u001b[0m\n\u001b[0;32m     14\u001b[0m cont \u001b[38;5;241m=\u001b[39m \u001b[38;5;241m0\u001b[39m\n\u001b[0;32m     15\u001b[0m regexp \u001b[38;5;241m=\u001b[39m re\u001b[38;5;241m.\u001b[39mcompile(\u001b[38;5;124mr\u001b[39m\u001b[38;5;124m'\u001b[39m\u001b[38;5;124m_PS_[0-9]+.xlsx\u001b[39m\u001b[38;5;124m'\u001b[39m)\n\u001b[1;32m---> 16\u001b[0m last_month \u001b[38;5;241m=\u001b[39m \u001b[43msheet\u001b[49m\u001b[43m[\u001b[49m\u001b[38;5;124;43m'\u001b[39;49m\u001b[38;5;124;43mC\u001b[39;49m\u001b[38;5;124;43m'\u001b[39;49m\u001b[43m]\u001b[49m\u001b[43m[\u001b[49m\u001b[43mlast_row\u001b[49m\u001b[43m]\u001b[49m\u001b[38;5;241m.\u001b[39mvalue\n\u001b[0;32m     18\u001b[0m \u001b[38;5;28;01mfor\u001b[39;00m row \u001b[38;5;129;01min\u001b[39;00m \u001b[38;5;28mrange\u001b[39m(last_row\u001b[38;5;241m-\u001b[39m\u001b[38;5;241m1\u001b[39m, \u001b[38;5;241m0\u001b[39m, \u001b[38;5;241m-\u001b[39m\u001b[38;5;241m1\u001b[39m):\n\u001b[0;32m     19\u001b[0m     \u001b[38;5;28;01mif\u001b[39;00m sheet[\u001b[38;5;124m'\u001b[39m\u001b[38;5;124mA\u001b[39m\u001b[38;5;124m'\u001b[39m][row]\u001b[38;5;241m.\u001b[39mvalue \u001b[38;5;241m!=\u001b[39m last_value_A:\n",
      "\u001b[1;31mIndexError\u001b[0m: tuple index out of range"
     ]
    }
   ],
   "source": [
    "import openpyxl as op\r\n",
    "import re\r\n",
    "\r\n",
    "\r\n",
    "def copypaste(sheet):\r\n",
    "    last_value_A = sheet[f\"A{len(sheet['A'])}\"].value\r\n",
    "\r\n",
    "    first_row = 0 \r\n",
    "    last_row = sheet.max_row\r\n",
    "\r\n",
    "    first_col = 1\r\n",
    "    last_col = sheet.max_column\r\n",
    "\r\n",
    "    cont = 0\r\n",
    "    regexp = re.compile(r'_PS_[0-9]+.xlsx')\r\n",
    "    last_month = sheet['C'][last_row].value\r\n",
    "\r\n",
    "    for row in range(last_row-1, 0, -1):\r\n",
    "        if sheet['A'][row].value != last_value_A:\r\n",
    "            first_row = row-1\r\n",
    "            break\r\n",
    "\r\n",
    "    for row in range(first_row + 3, last_row):\r\n",
    "        cont += 1\r\n",
    "        for col in range(first_col, last_col+1):\r\n",
    "            sheet.cell(last_row+cont, col).value = sheet.cell(row, col).value.replace(regexp.findall(sheet.cell(row, col).value)[0],f\"_PS_{last_month+1}.xlsx\")\r\n",
    "\r\n",
    "            # sheet.cell(row, col).value\r\n",
    "\r\n",
    "\r\n",
    "def copypastepn(sheet):\r\n",
    "    last_value_A = sheet[f\"B{len(sheet['B'])}\"].value\r\n",
    "\r\n",
    "    first_row = 0 \r\n",
    "    last_row = sheet.max_row\r\n",
    "\r\n",
    "    first_col = 1\r\n",
    "    last_col = sheet.max_column\r\n",
    "\r\n",
    "    cont = 0\r\n",
    "\r\n",
    "    for row in range(last_row-1, 0, -1):\r\n",
    "        if sheet['B'][row].value != last_value_A:\r\n",
    "            first_row = row-1\r\n",
    "            break\r\n",
    "\r\n",
    "    for row in range(first_row + 3, last_row):\r\n",
    "        cont += 1\r\n",
    "        for col in range(first_col, last_col+1):\r\n",
    "            sheet.cell(last_row+cont, col).value = sheet.cell(row, col).value\r\n",
    "\r\n",
    "\r\n",
    "wb = op.load_workbook('apcmat.xlsx')\r\n",
    "copypaste(wb['APC MAT'])\r\n",
    "wb.save('testemat.xlsx')\r\n",
    "\r\n",
    "\r\n",
    "# wb = op.load_workbook('evolucaofob.xlsx')\r\n",
    "# copypaste(wb['Evolução FOB'])\r\n",
    "# wb.save('testefob.xlsx')\r\n",
    "\r\n",
    "\r\n",
    "# wb = op.load_workbook('variacaopdcl.xlsx')\r\n",
    "# copypaste(wb['Variações por PDCL'])\r\n",
    "# wb.save('testepdcl.xlsx')\r\n",
    "\r\n",
    "\r\n",
    "# wb = op.load_workbook('variacaopn.xlsx')\r\n",
    "# copypastepn(wb['Variações por PN'])\r\n",
    "# wb.save('testepn.xlsx')\r\n",
    "\r\n",
    "# wb = op.load_workbook('variacaopn2.xlsx')\r\n",
    "# copypaste(wb['Variações II por PN'])\r\n",
    "# wb.save('testepn2.xlsx')\r\n",
    "\r\n",
    "\r\n",
    "\r\n"
   ]
  },
  {
   "cell_type": "code",
   "execution_count": null,
   "metadata": {},
   "outputs": [],
   "source": []
  }
 ],
 "metadata": {
  "interpreter": {
   "hash": "ea57967bd6d2351b70e9c8a0d69fad9a1a5c69eab164a484abb53d3ef8652636"
  },
  "kernelspec": {
   "display_name": "Python 3.8.0 64-bit",
   "name": "python3"
  },
  "language_info": {
   "codemirror_mode": {
    "name": "ipython",
    "version": 3
   },
   "file_extension": ".py",
   "mimetype": "text/x-python",
   "name": "python",
   "nbconvert_exporter": "python",
   "pygments_lexer": "ipython3",
   "version": "3.8.0"
  }
 },
 "nbformat": 4,
 "nbformat_minor": 4
}