{
 "cells": [
  {
   "cell_type": "code",
   "execution_count": 6,
   "metadata": {},
   "outputs": [
    {
     "name": "stdout",
     "output_type": "stream",
     "text": [
      "<Cell 'APC MAT'.A160>\n",
      "<Cell 'APC MAT'.A161>\n",
      "<Cell 'APC MAT'.A162>\n",
      "<Cell 'APC MAT'.A163>\n",
      "<Cell 'APC MAT'.A164>\n",
      "<Cell 'APC MAT'.A165>\n",
      "<Cell 'APC MAT'.A166>\n",
      "<Cell 'APC MAT'.A167>\n",
      "<Cell 'APC MAT'.A168>\n",
      "<Cell 'APC MAT'.A169>\n",
      "<Cell 'APC MAT'.A170>\n",
      "<Cell 'APC MAT'.A171>\n",
      "<Cell 'APC MAT'.A172>\n",
      "<Cell 'APC MAT'.A173>\n",
      "<Cell 'APC MAT'.A174>\n",
      "<Cell 'APC MAT'.A175>\n",
      "<Cell 'APC MAT'.A176>\n",
      "<Cell 'APC MAT'.A177>\n"
     ]
    }
   ],
   "source": [
    "import openpyxl as op\r\n",
    "\r\n",
    "wb = op.load_workbook('apcmat.xlsx')\r\n",
    "\r\n",
    "sheet = wb['APC MAT']\r\n",
    "\r\n",
    "last_value_A = sheet[f\"A{len(sheet['A'])}\"].value\r\n",
    "\r\n",
    "first_row = 0\r\n",
    "last_row = sheet.max_row\r\n",
    "\r\n",
    "first_col = 1\r\n",
    "last_col = sheet.max_column\r\n",
    "\r\n",
    "for row in range(last_row-1, 0, -1):\r\n",
    "    if sheet['A'][row].value != last_value_A:\r\n",
    "        first_row = row-1\r\n",
    "        break\r\n",
    "    \r\n",
    "for o in range(first_row, last_row):\r\n",
    "    print(sheet['A'][o])    \r\n",
    "\r\n",
    "\r\n",
    "\r\n"
   ]
  },
  {
   "cell_type": "code",
   "execution_count": null,
   "metadata": {},
   "outputs": [],
   "source": []
  }
 ],
 "metadata": {
  "interpreter": {
   "hash": "ea57967bd6d2351b70e9c8a0d69fad9a1a5c69eab164a484abb53d3ef8652636"
  },
  "kernelspec": {
   "display_name": "Python 3.8.0 64-bit",
   "name": "python3"
  },
  "language_info": {
   "codemirror_mode": {
    "name": "ipython",
    "version": 3
   },
   "file_extension": ".py",
   "mimetype": "text/x-python",
   "name": "python",
   "nbconvert_exporter": "python",
   "pygments_lexer": "ipython3",
   "version": "3.8.0"
  }
 },
 "nbformat": 4,
 "nbformat_minor": 4
}