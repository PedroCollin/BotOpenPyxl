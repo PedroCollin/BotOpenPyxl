{
 "cells": [
  {
   "cell_type": "code",
   "execution_count": 19,
   "metadata": {},
   "outputs": [
    {
     "name": "stdout",
     "output_type": "stream",
     "text": [
      "13\n"
     ]
    }
   ],
   "source": [
    "import openpyxl as op\n",
    "\n",
    "wb = op.load_workbook('apcmat.xlsx')\n",
    "\n",
    "sheet = wb['APC MAT']\n",
    "\n",
    "last_value_A = sheet[f\"A{len(sheet['A'])}\"].value\n",
    "\n",
    "first_row = 0\n",
    "last_row = sheet.max_row\n",
    "\n",
    "first_col = 1\n",
    "last_col = sheet.max_column\n",
    "\n",
    "for row in range(last_row-1, 0, -1):\n",
    "    if sheet['A'][row].value != last_value_A:\n",
    "        first_row = row-1\n",
    "        break\n",
    "    \n",
    "for o in range(first_row, last_row):\n",
    "    pass\n",
    "\n",
    "print(last_col)\n",
    "\n"
   ]
  },
  {
   "cell_type": "code",
   "execution_count": null,
   "metadata": {},
   "outputs": [],
   "source": []
  }
 ],
 "metadata": {
  "kernelspec": {
   "display_name": "Python 3",
   "language": "python",
   "name": "python3"
  },
  "language_info": {
   "codemirror_mode": {
    "name": "ipython",
    "version": 3
   },
   "file_extension": ".py",
   "mimetype": "text/x-python",
   "name": "python",
   "nbconvert_exporter": "python",
   "pygments_lexer": "ipython3",
   "version": "3.8.3"
  }
 },
 "nbformat": 4,
 "nbformat_minor": 4
}
